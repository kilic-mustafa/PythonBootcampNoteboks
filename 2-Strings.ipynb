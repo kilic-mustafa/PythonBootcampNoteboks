{
 "cells": [
  {
   "cell_type": "code",
   "execution_count": 1,
   "id": "74220267-fbf2-4d88-bdb2-de8b682902ca",
   "metadata": {},
   "outputs": [
    {
     "data": {
      "text/plain": [
       "'Hello World'"
      ]
     },
     "execution_count": 1,
     "metadata": {},
     "output_type": "execute_result"
    }
   ],
   "source": [
    "\"Hello World\""
   ]
  },
  {
   "cell_type": "code",
   "execution_count": 2,
   "id": "e1ea31aa-4b6e-460b-aa79-4b498f556223",
   "metadata": {},
   "outputs": [
    {
     "name": "stdout",
     "output_type": "stream",
     "text": [
      "Hello Python\n"
     ]
    }
   ],
   "source": [
    "print(\"Hello Python\")"
   ]
  },
  {
   "cell_type": "code",
   "execution_count": 3,
   "id": "3e07ffd7-4818-4349-9683-9c14cdc3b90c",
   "metadata": {},
   "outputs": [],
   "source": [
    "name = \"Mustafa\""
   ]
  },
  {
   "cell_type": "code",
   "execution_count": 4,
   "id": "6bb8d7bb-dc7b-4d1f-aa7d-71492124cb73",
   "metadata": {},
   "outputs": [
    {
     "data": {
      "text/plain": [
       "str"
      ]
     },
     "execution_count": 4,
     "metadata": {},
     "output_type": "execute_result"
    }
   ],
   "source": [
    "type(name)"
   ]
  },
  {
   "cell_type": "code",
   "execution_count": 5,
   "id": "1154a041-c9ad-43fb-a14d-dd9df4ad6d07",
   "metadata": {},
   "outputs": [
    {
     "data": {
      "text/plain": [
       "'Mustafa Restaurant'"
      ]
     },
     "execution_count": 5,
     "metadata": {},
     "output_type": "execute_result"
    }
   ],
   "source": [
    "'Mustafa Restaurant'"
   ]
  },
  {
   "cell_type": "code",
   "execution_count": 6,
   "id": "82ce37d9-3561-4229-a67c-6959ce3e844c",
   "metadata": {},
   "outputs": [
    {
     "data": {
      "text/plain": [
       "'Mustafa Restaurant'"
      ]
     },
     "execution_count": 6,
     "metadata": {},
     "output_type": "execute_result"
    }
   ],
   "source": [
    "\"Mustafa Restaurant\""
   ]
  },
  {
   "cell_type": "code",
   "execution_count": 7,
   "id": "f92b7bdd-d3a7-496d-8638-636bfd49f555",
   "metadata": {},
   "outputs": [
    {
     "data": {
      "text/plain": [
       "\"Mustafa's Restaurant\""
      ]
     },
     "execution_count": 7,
     "metadata": {},
     "output_type": "execute_result"
    }
   ],
   "source": [
    "\"Mustafa's Restaurant\""
   ]
  },
  {
   "cell_type": "code",
   "execution_count": 8,
   "id": "d9d71db3-1b91-4832-bd03-772f3439b475",
   "metadata": {},
   "outputs": [],
   "source": [
    "name = \"Mustafa\""
   ]
  },
  {
   "cell_type": "code",
   "execution_count": 9,
   "id": "3a0a80ff-5b64-4d1b-8ddc-1917e8c98bff",
   "metadata": {},
   "outputs": [
    {
     "data": {
      "text/plain": [
       "str"
      ]
     },
     "execution_count": 9,
     "metadata": {},
     "output_type": "execute_result"
    }
   ],
   "source": [
    "type(name)"
   ]
  },
  {
   "cell_type": "code",
   "execution_count": 10,
   "id": "78a07ff9-6a1d-47f0-ae67-f7c762eed92d",
   "metadata": {},
   "outputs": [],
   "source": [
    "name = \"Mustafa Kilic\""
   ]
  },
  {
   "cell_type": "code",
   "execution_count": 11,
   "id": "f4aedbf3-223f-49cc-a6ba-95bc99ff9cfc",
   "metadata": {},
   "outputs": [
    {
     "data": {
      "text/plain": [
       "'Mustafa kilic'"
      ]
     },
     "execution_count": 11,
     "metadata": {},
     "output_type": "execute_result"
    }
   ],
   "source": [
    "name .capitalize()"
   ]
  },
  {
   "cell_type": "code",
   "execution_count": 12,
   "id": "f7aaa0d0-af69-4960-8f38-c3e57eaced02",
   "metadata": {},
   "outputs": [
    {
     "data": {
      "text/plain": [
       "<function str.capitalize()>"
      ]
     },
     "execution_count": 12,
     "metadata": {},
     "output_type": "execute_result"
    }
   ],
   "source": [
    "name.capitalize"
   ]
  },
  {
   "cell_type": "code",
   "execution_count": 13,
   "id": "5c180994-3db5-45e3-a7ac-8e6d47ae41bc",
   "metadata": {},
   "outputs": [],
   "source": [
    "x = 10"
   ]
  },
  {
   "cell_type": "code",
   "execution_count": 14,
   "id": "d37d782a-a738-4fb5-8ae5-258a3ac65038",
   "metadata": {},
   "outputs": [],
   "source": [
    "x = 8"
   ]
  },
  {
   "cell_type": "code",
   "execution_count": 15,
   "id": "52fa86e5-13c0-4f93-a7da-5da476907c0e",
   "metadata": {},
   "outputs": [
    {
     "data": {
      "text/plain": [
       "'Mustafa Kilic'"
      ]
     },
     "execution_count": 15,
     "metadata": {},
     "output_type": "execute_result"
    }
   ],
   "source": [
    "name"
   ]
  },
  {
   "cell_type": "code",
   "execution_count": 16,
   "id": "8f4e1177-0fce-46f2-bbe9-e3ee52bb4c47",
   "metadata": {},
   "outputs": [
    {
     "name": "stdout",
     "output_type": "stream",
     "text": [
      "Help on built-in function count:\n",
      "\n",
      "count(...) method of builtins.str instance\n",
      "    S.count(sub[, start[, end]]) -> int\n",
      "\n",
      "    Return the number of non-overlapping occurrences of substring sub in\n",
      "    string S[start:end].  Optional arguments start and end are\n",
      "    interpreted as in slice notation.\n",
      "\n"
     ]
    }
   ],
   "source": [
    "help(name.count)"
   ]
  },
  {
   "cell_type": "code",
   "execution_count": 17,
   "id": "a914401c-c134-4a09-906c-6f8d97c82845",
   "metadata": {},
   "outputs": [
    {
     "name": "stdout",
     "output_type": "stream",
     "text": [
      "Help on built-in function capitalize:\n",
      "\n",
      "capitalize() method of builtins.str instance\n",
      "    Return a capitalized version of the string.\n",
      "\n",
      "    More specifically, make the first character have upper case and the rest lower\n",
      "    case.\n",
      "\n"
     ]
    }
   ],
   "source": [
    "help(name.capitalize)"
   ]
  },
  {
   "cell_type": "code",
   "execution_count": 18,
   "id": "1a822bac-ddc9-4440-9d8b-23d48ab8b391",
   "metadata": {},
   "outputs": [
    {
     "data": {
      "text/plain": [
       "'Mustafa Kilic'"
      ]
     },
     "execution_count": 18,
     "metadata": {},
     "output_type": "execute_result"
    }
   ],
   "source": [
    "name"
   ]
  },
  {
   "cell_type": "code",
   "execution_count": 19,
   "id": "0cd03a87-6aac-4664-85b3-15c4ea712b7d",
   "metadata": {},
   "outputs": [
    {
     "data": {
      "text/plain": [
       "2"
      ]
     },
     "execution_count": 19,
     "metadata": {},
     "output_type": "execute_result"
    }
   ],
   "source": [
    "name.count(\"a\")"
   ]
  },
  {
   "cell_type": "code",
   "execution_count": 20,
   "id": "3457eb9f-a4de-49be-a218-4000c19232f2",
   "metadata": {},
   "outputs": [
    {
     "data": {
      "text/plain": [
       "0"
      ]
     },
     "execution_count": 20,
     "metadata": {},
     "output_type": "execute_result"
    }
   ],
   "source": [
    "name.count(\"b\")"
   ]
  },
  {
   "cell_type": "code",
   "execution_count": 21,
   "id": "1822478f-cd6b-4c46-b615-087cc2372042",
   "metadata": {},
   "outputs": [
    {
     "data": {
      "text/plain": [
       "'MUSTAFA KILIC'"
      ]
     },
     "execution_count": 21,
     "metadata": {},
     "output_type": "execute_result"
    }
   ],
   "source": [
    "name.upper()"
   ]
  },
  {
   "cell_type": "code",
   "execution_count": 22,
   "id": "db1258ad-77e7-40e7-b421-4039b7ed703d",
   "metadata": {},
   "outputs": [
    {
     "data": {
      "text/plain": [
       "'Mustafa Kilic'"
      ]
     },
     "execution_count": 22,
     "metadata": {},
     "output_type": "execute_result"
    }
   ],
   "source": [
    "name"
   ]
  },
  {
   "cell_type": "code",
   "execution_count": 23,
   "id": "0315028e-dfd3-45a4-86ea-f1adc66ea0f0",
   "metadata": {},
   "outputs": [],
   "source": [
    "x = 10\n",
    "y = 5"
   ]
  },
  {
   "cell_type": "code",
   "execution_count": 24,
   "id": "432f9332-f0b1-485a-b2bd-c7273294bd70",
   "metadata": {},
   "outputs": [
    {
     "data": {
      "text/plain": [
       "15"
      ]
     },
     "execution_count": 24,
     "metadata": {},
     "output_type": "execute_result"
    }
   ],
   "source": [
    "x + y"
   ]
  },
  {
   "cell_type": "code",
   "execution_count": 25,
   "id": "5f06a3a7-239d-42bf-ad57-cb018196393f",
   "metadata": {},
   "outputs": [],
   "source": [
    "z = x + y"
   ]
  },
  {
   "cell_type": "code",
   "execution_count": 26,
   "id": "a3ec01ab-2eb6-4540-bb25-f3688d56dc5f",
   "metadata": {},
   "outputs": [
    {
     "data": {
      "text/plain": [
       "15"
      ]
     },
     "execution_count": 26,
     "metadata": {},
     "output_type": "execute_result"
    }
   ],
   "source": [
    "z"
   ]
  },
  {
   "cell_type": "code",
   "execution_count": 27,
   "id": "a0d47248-351c-4234-9258-19c0c3f7b930",
   "metadata": {},
   "outputs": [],
   "source": [
    "nameUpper = name.upper()"
   ]
  },
  {
   "cell_type": "code",
   "execution_count": 28,
   "id": "e7f16acc-6f2a-4b76-aa90-0f0a1db90d51",
   "metadata": {},
   "outputs": [
    {
     "data": {
      "text/plain": [
       "'MUSTAFA KILIC'"
      ]
     },
     "execution_count": 28,
     "metadata": {},
     "output_type": "execute_result"
    }
   ],
   "source": [
    "nameUpper"
   ]
  },
  {
   "cell_type": "code",
   "execution_count": 29,
   "id": "def3a0d9-3bd8-4b29-b653-052fda5228b1",
   "metadata": {},
   "outputs": [
    {
     "data": {
      "text/plain": [
       "'Mustafa Kilic'"
      ]
     },
     "execution_count": 29,
     "metadata": {},
     "output_type": "execute_result"
    }
   ],
   "source": [
    "name"
   ]
  },
  {
   "cell_type": "code",
   "execution_count": 30,
   "id": "76305b8a-9b4a-497c-93b9-bdf72a21ab78",
   "metadata": {},
   "outputs": [
    {
     "name": "stdout",
     "output_type": "stream",
     "text": [
      "MUSTAFA KILIC\n"
     ]
    }
   ],
   "source": [
    "print(name.upper())"
   ]
  },
  {
   "cell_type": "code",
   "execution_count": 31,
   "id": "da04d18a-87ea-4c77-90f6-2848351260b5",
   "metadata": {},
   "outputs": [
    {
     "name": "stdout",
     "output_type": "stream",
     "text": [
      "Help on built-in function upper:\n",
      "\n",
      "upper() method of builtins.str instance\n",
      "    Return a copy of the string converted to uppercase.\n",
      "\n"
     ]
    }
   ],
   "source": [
    "help(name.upper)"
   ]
  },
  {
   "cell_type": "code",
   "execution_count": 32,
   "id": "fbc7c996-8a5b-433a-95e8-34fac745eff7",
   "metadata": {},
   "outputs": [
    {
     "data": {
      "text/plain": [
       "13"
      ]
     },
     "execution_count": 32,
     "metadata": {},
     "output_type": "execute_result"
    }
   ],
   "source": [
    "len(name) # length"
   ]
  },
  {
   "cell_type": "code",
   "execution_count": 33,
   "id": "72246b62-0e87-489f-a96c-813531ec10ff",
   "metadata": {},
   "outputs": [
    {
     "name": "stdout",
     "output_type": "stream",
     "text": [
      "Mustafa Kilic\n"
     ]
    }
   ],
   "source": [
    "print(\"Mustafa Kilic\")"
   ]
  },
  {
   "cell_type": "code",
   "execution_count": 34,
   "id": "aeab8433-721d-43a2-a4a9-63da3d826cc6",
   "metadata": {},
   "outputs": [
    {
     "name": "stdout",
     "output_type": "stream",
     "text": [
      "Mustafa \n",
      " Kilic\n"
     ]
    }
   ],
   "source": [
    "print(\"Mustafa \\nKilic\")"
   ]
  },
  {
   "cell_type": "code",
   "execution_count": null,
   "id": "2ee69db8-7a09-4dfc-80e5-a518b33f21fc",
   "metadata": {},
   "outputs": [],
   "source": []
  }
 ],
 "metadata": {
  "kernelspec": {
   "display_name": "Python 3 (ipykernel)",
   "language": "python",
   "name": "python3"
  },
  "language_info": {
   "codemirror_mode": {
    "name": "ipython",
    "version": 3
   },
   "file_extension": ".py",
   "mimetype": "text/x-python",
   "name": "python",
   "nbconvert_exporter": "python",
   "pygments_lexer": "ipython3",
   "version": "3.12.7"
  }
 },
 "nbformat": 4,
 "nbformat_minor": 5
}
